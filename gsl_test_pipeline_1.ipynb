{
 "cells": [
  {
   "cell_type": "markdown",
   "metadata": {},
   "source": [
    "# GSL Test Pipeline"
   ]
  },
  {
   "cell_type": "code",
   "execution_count": 3,
   "metadata": {
    "code_folding": [
     0
    ]
   },
   "outputs": [],
   "source": [
    "#### Imports\n",
    "\n",
    "import os\n",
    "import random\n",
    "random.seed(123)\n",
    "\n",
    "import torch\n",
    "import torch.nn as nn\n",
    "import torch.backends.cudnn as cudnn\n",
    "from torch.utils.data import Dataset, DataLoader\n",
    "from torchvision import transforms, datasets\n",
    "from torchsummary import summary\n",
    "\n",
    "import cv2\n",
    "import numpy as np\n",
    "import matplotlib.pyplot as plt\n",
    "%matplotlib inline\n",
    "\n",
    "import models.models as M"
   ]
  },
  {
   "cell_type": "markdown",
   "metadata": {},
   "source": [
    "## Hyperparams"
   ]
  },
  {
   "cell_type": "code",
   "execution_count": 4,
   "metadata": {
    "code_folding": [
     0
    ]
   },
   "outputs": [],
   "source": [
    "#### Hyper Parameters\n",
    "\n",
    "batch_size = 1\n",
    "learning_rate = 1e-3\n",
    "weight_decay = 1e-4\n",
    "\n",
    "image_encoder_dim = 64 * 8 * 8\n",
    "image_decoder_dim = 64 * 8 * 8\n",
    "\n",
    "static_dim = 100\n",
    "dynamic_dim = 200\n",
    "\n",
    "disentangler_depth = 2\n",
    "entangler_depth = 2\n",
    "\n",
    "MAX_LENGTH = 64\n",
    "\n",
    "device = torch.device('cuda' if torch.cuda.is_available() else 'cpu')"
   ]
  },
  {
   "cell_type": "markdown",
   "metadata": {},
   "source": [
    "## Data Prep"
   ]
  },
  {
   "cell_type": "code",
   "execution_count": 5,
   "metadata": {
    "code_folding": [
     0,
     6,
     12
    ]
   },
   "outputs": [],
   "source": [
    "#### Data Preparation\n",
    "\n",
    "video_root = 'group-gen/test-videos'\n",
    "image_root = 'group-gen/test-images'\n",
    "\n",
    "\n",
    "def mkdir(dir_path):\n",
    "    \"\"\"Check/create dir\"\"\"\n",
    "    if not os.path.exists(dir_path):\n",
    "        os.mkdir(dir_path)\n",
    "\n",
    "\n",
    "def vid2imgs(vid_path, img_dir):\n",
    "    \"\"\"Save video as a folder of images\"\"\"\n",
    "    cap = cv2.VideoCapture(vid_path)\n",
    "    if cap.isOpened():\n",
    "        f_get, frame = cap.read()\n",
    "        n = 0\n",
    "        while f_get:\n",
    "            img_path = os.path.join(img_dir, f'f-{n}.jpg')\n",
    "            cv2.imwrite(img_path, frame)\n",
    "            n += 1\n",
    "            f_get, frame = cap.read()\n",
    "    else:\n",
    "        print(f\"Can't open the video: {vid_path}\")\n",
    "    cap.release()\n",
    "\n",
    "    \n",
    "# mkdir(image_root)\n",
    "# for group in os.listdir(video_root):\n",
    "#     if os.path.splitext(group)[1] == '':\n",
    "#         mkdir(f'{image_root}/{group}')\n",
    "#         for video in os.listdir(f'{video_root}/{group}'):\n",
    "#             if os.path.splitext(video)[1] == '.avi':\n",
    "#                 video_path = f'{video_root}/{group}/{video}'\n",
    "#                 image_dir = f'{image_root}/{group}/{video[:-4]}'\n",
    "#                 mkdir(image_dir)\n",
    "#                 vid2imgs(video_path, image_dir)"
   ]
  },
  {
   "cell_type": "markdown",
   "metadata": {},
   "source": [
    "## Define & Load Dataset"
   ]
  },
  {
   "cell_type": "code",
   "execution_count": 7,
   "metadata": {
    "code_folding": [
     0,
     39,
     46,
     49,
     52,
     55
    ],
    "collapsed": true
   },
   "outputs": [
    {
     "name": "stderr",
     "output_type": "stream",
     "text": [
      "Clipping input data to the valid range for imshow with RGB data ([0..1] for floats or [0..255] for integers).\n"
     ]
    },
    {
     "name": "stdout",
     "output_type": "stream",
     "text": [
      "torch.Size([1, 24, 3, 128, 128])\n"
     ]
    },
    {
     "data": {
      "image/png": "[encoded data removed]",
      "text/plain": [
       "<Figure size 432x288 with 1 Axes>"
      ]
     },
     "metadata": {
      "needs_background": "light"
     },
     "output_type": "display_data"
    }
   ],
   "source": [
    "#### Define & Load Dataset\n",
    "\n",
    "class GSLData(Dataset):\n",
    "    \"\"\"Custom GSL torch dataset\"\"\"\n",
    "    def __init__(self, root, train=True, transform=None):\n",
    "        super(GSLData, self).__init__()\n",
    "        self.transform = transform\n",
    "        self.groups = []\n",
    "        \n",
    "        all_ = os.listdir(root)\n",
    "        train_len = int(len(all_)*0.8)\n",
    "        group_dirs = all_[:train_len] if train else all_[train_len:]\n",
    "        group_dirs = list(map(lambda x: os.path.join(root, x), group_dirs))\n",
    "        \n",
    "        for group_dir in group_dirs:\n",
    "            group_data = {}\n",
    "            for img_seq in os.listdir(group_dir):\n",
    "                group_data[img_seq] = os.path.join(group_dir, img_seq)\n",
    "            self.groups.append(group_data)\n",
    "\n",
    "    def __getitem__(self, index):\n",
    "        item = {}\n",
    "        group = self.groups[index]\n",
    "        for img_seq in group.keys():\n",
    "            img_dir = group[img_seq]\n",
    "            item[img_seq] = []\n",
    "            for img_name in os.listdir(img_dir):\n",
    "                img = plt.imread(os.path.join(img_dir, img_name))\n",
    "                if self.transform is not None:\n",
    "                    img = self.transform(img)\n",
    "                item[img_seq].append(img.numpy())\n",
    "            item[img_seq] = np.array(item[img_seq])\n",
    "        return item\n",
    "\n",
    "    def __len__(self):\n",
    "        return len(self.groups)\n",
    "\n",
    "\n",
    "data_root= 'group-gen/test-images'\n",
    "trans = transforms.Compose([transforms.ToPILImage(),\n",
    "                            transforms.Resize(128),\n",
    "                            transforms.CenterCrop(128),\n",
    "                            transforms.RandomHorizontalFlip(),\n",
    "                            transforms.ToTensor(),\n",
    "                            transforms.Normalize(mean = (0.5, 0.5, 0.5), \n",
    "                                                 std = (0.5, 0.5, 0.5))])\n",
    "train_data = GSLData(root=data_root, \n",
    "                     train=True, \n",
    "                     transform=trans)\n",
    "test_data = GSLData(root=data_root, \n",
    "                    train=False, \n",
    "                    transform=trans)\n",
    "train_loader = DataLoader(dataset=train_data, \n",
    "                          batch_size=1, \n",
    "                          shuffle=True)\n",
    "test_loader = DataLoader(dataset=test_data, \n",
    "                         batch_size=1, \n",
    "                         shuffle=True)\n",
    "\n",
    "for step, X in enumerate(test_loader):\n",
    "    plt.imshow(X['000001'][0][0].numpy().transpose(1,2,0))\n",
    "    print(X['000001'].shape)\n",
    "    break"
   ]
  },
  {
   "cell_type": "markdown",
   "metadata": {},
   "source": [
    "## Test AE"
   ]
  },
  {
   "cell_type": "code",
   "execution_count": 8,
   "metadata": {
    "code_folding": [
     0,
     2
    ]
   },
   "outputs": [],
   "source": [
    "#### Test AE\n",
    "\n",
    "class AE(nn.Module):\n",
    "    def __init__(self,):\n",
    "        super(AE, self).__init__()\n",
    "    \n",
    "        self.encoder = nn.Sequential(\n",
    "            nn.Conv2d(3, 4, 3, 1, 1),\n",
    "            nn.ReLU(True),\n",
    "            nn.Conv2d(4, 8, 4, 2, 1),\n",
    "            nn.ReLU(True),\n",
    "            nn.Conv2d(8, 16, 4, 2, 1),\n",
    "            nn.ReLU(True),\n",
    "            nn.Conv2d(16, 32, 4, 2, 1),\n",
    "            nn.ReLU(True),\n",
    "            nn.Conv2d(32, 64, 4, 2, 1),\n",
    "            nn.ReLU(True),\n",
    "        )\n",
    "           \n",
    "        self.decoder = nn.Sequential(\n",
    "            nn.UpsamplingNearest2d(scale_factor=2),\n",
    "            nn.ConvTranspose2d(64, 32, 3, 1, 1),\n",
    "            nn.ReLU(True),\n",
    "            nn.UpsamplingNearest2d(scale_factor=2),\n",
    "            nn.ConvTranspose2d(32, 16, 3, 1, 1),\n",
    "            nn.ReLU(True),\n",
    "            nn.UpsamplingNearest2d(scale_factor=2),\n",
    "            nn.ConvTranspose2d(16, 8, 3, 1, 1),\n",
    "            nn.ReLU(True),\n",
    "            nn.UpsamplingNearest2d(scale_factor=2),\n",
    "            nn.ConvTranspose2d(8, 4, 3, 1, 1),\n",
    "            nn.ReLU(True),\n",
    "            nn.ConvTranspose2d(4, 3, 3, 1, 1),\n",
    "            nn.Tanh(),\n",
    "        )\n",
    "        \n",
    "    def forward(self, x):\n",
    "        encoded = self.encoder(x)\n",
    "        decoded = self.decoder(encoded)\n",
    "        return encoded, decoded\n",
    "\n",
    "\n",
    "# test_ae = AE().to(device)\n",
    "# criterion = nn.MSELoss()\n",
    "# optimizer = torch.optim.Adam(params=test_ae.parameters(), \n",
    "#                              lr=learning_rate, \n",
    "#                              weight_decay=weight_decay)\n",
    "# for epoch in range(2):\n",
    "#     for step, X in enumerate(test_loader):\n",
    "#         print(X['center'].size(), X['center'].device)\n",
    "#         inputs = X['center'].squeeze(0).to(device)\n",
    "#         print(inputs.size(), inputs.device)\n",
    "#         latent, outputs = test_ae(inputs)\n",
    "#         print(latent.size(), latent.device)\n",
    "#         print(outputs.size(), outputs.device)\n",
    "\n",
    "#         loss = criterion(outputs, inputs)\n",
    "#         print(f\"Loss: {loss.item()}\")\n",
    "#         optimizer.zero_grad()\n",
    "#         loss.backward()\n",
    "#         optimizer.step()"
   ]
  },
  {
   "cell_type": "markdown",
   "metadata": {},
   "source": [
    "## Create Modules"
   ]
  },
  {
   "cell_type": "code",
   "execution_count": 9,
   "metadata": {
    "code_folding": [
     0
    ]
   },
   "outputs": [],
   "source": [
    "#### Test LSTM modules\n",
    "\n",
    "class LSTM(nn.Module):\n",
    "    def __init__(self):\n",
    "        super(LSTM, self).__init__()\n",
    "        self.disentangler = M.DisEncoder(input_size=image_encoder_dim, \n",
    "                                         hidden_size=static_dim, \n",
    "                                         num_layers=disentangler_depth)\n",
    "        self.dy_encoder = M.DyEncoder(input_size=static_dim, \n",
    "                                      hidden_size=dynamic_dim, \n",
    "                                      num_layers=1)\n",
    "        self.dy_decoder = M.DyDecoder(input_size=dynamic_dim, \n",
    "                                      hidden_size=dynamic_dim,\n",
    "                                      output_size=static_dim, \n",
    "                                      num_layers=1)\n",
    "        self.dy_ae = M.DyModule(self.dy_encoder, \n",
    "                             self.dy_decoder, \n",
    "                             MAX_LENGTH)\n",
    "        self.entangler = M.DisDecoder(input_size=static_dim+static_dim, \n",
    "                                      hidden_size=image_decoder_dim, \n",
    "                                      num_layers=entangler_depth)\n",
    "\n",
    "    def forward(self, encoded_videos):\n",
    "        # x.size() == (b, len, 3, 128, 128)\n",
    "#         encoded_videos = torch.tensor([i for i in x])\n",
    "        d_seq, statics = self.disentangler(encoded_videos)\n",
    "        d_seq, masks, dynamics = self.dy_ae(d_seq)\n",
    "        statics = statics.unsqueeze(1)\n",
    "        s_seq = statics.repeat(1,MAX_LENGTH,1)\n",
    "        new_z = torch.cat((s_seq,d_seq),dim=-1)\n",
    "        videos_to_decode = self.entangler(new_z)[0]\n",
    "        return videos_to_decode"
   ]
  },
  {
   "cell_type": "markdown",
   "metadata": {},
   "source": [
    "## Test Training"
   ]
  },
  {
   "cell_type": "code",
   "execution_count": 11,
   "metadata": {
    "code_folding": [
     0
    ],
    "collapsed": true
   },
   "outputs": [
    {
     "name": "stdout",
     "output_type": "stream",
     "text": [
      "epoch: 0, step: 0, loss: 0.0006912598037160933\n",
      "epoch: 0, step: 1, loss: 0.0005999046261422336\n",
      "epoch: 0, step: 2, loss: 0.0005177875282242894\n",
      "epoch: 0, step: 3, loss: 0.00045895640505477786\n",
      "epoch: 0, step: 4, loss: 0.00038932269671931863\n",
      "epoch: 0, step: 5, loss: 0.00032505844137631357\n",
      "epoch: 0, step: 6, loss: 0.0002449426392558962\n",
      "epoch: 0, step: 7, loss: 0.00015291714225895703\n",
      "epoch: 0, step: 8, loss: 8.371736475965008e-05\n",
      "epoch: 0, step: 9, loss: 6.383198342518881e-05\n",
      "epoch: 0, step: 10, loss: 3.4911197872133926e-05\n",
      "epoch: 0, step: 11, loss: 5.0464201194699854e-05\n",
      "epoch: 0, step: 12, loss: 5.976805550744757e-05\n",
      "epoch: 0, step: 13, loss: 7.000449841143563e-05\n",
      "epoch: 0, step: 14, loss: 4.738819188787602e-05\n",
      "epoch: 0, step: 15, loss: 6.188064435264096e-05\n",
      "epoch: 0, step: 16, loss: 3.7389221688499674e-05\n",
      "epoch: 0, step: 17, loss: 4.277942207409069e-05\n",
      "epoch: 0, step: 18, loss: 3.0629991670139134e-05\n",
      "epoch: 0, step: 19, loss: 4.451924905879423e-05\n",
      "epoch: 0, step: 20, loss: 3.294028647360392e-05\n",
      "epoch: 0, step: 21, loss: 3.576572999008931e-05\n",
      "epoch: 0, step: 22, loss: 5.352829612093046e-05\n",
      "epoch: 0, step: 23, loss: 3.4945162042276934e-05\n",
      "epoch: 0, step: 24, loss: 2.9570421247626655e-05\n",
      "epoch: 0, step: 25, loss: 4.3542615458136424e-05\n",
      "epoch: 0, step: 26, loss: 2.9333486963878386e-05\n",
      "epoch: 0, step: 27, loss: 2.9050675948383287e-05\n",
      "epoch: 0, step: 28, loss: 2.824009607138578e-05\n",
      "epoch: 0, step: 29, loss: 2.9857137633371167e-05\n",
      "epoch: 0, step: 30, loss: 3.720833410625346e-05\n",
      "epoch: 0, step: 31, loss: 3.71711103070993e-05\n",
      "epoch: 0, step: 32, loss: 5.001847603125498e-05\n",
      "epoch: 0, step: 33, loss: 4.685329622589052e-05\n",
      "epoch: 0, step: 34, loss: 3.163801375194453e-05\n",
      "epoch: 0, step: 35, loss: 2.8180793378851376e-05\n",
      "epoch: 0, step: 36, loss: 3.0267847250797786e-05\n",
      "epoch: 0, step: 37, loss: 3.2231106160907075e-05\n",
      "epoch: 0, step: 38, loss: 5.17308471899014e-05\n",
      "epoch: 0, step: 39, loss: 3.4089105611201376e-05\n",
      "epoch: 1, step: 0, loss: 4.896380050922744e-05\n",
      "epoch: 1, step: 1, loss: 3.300123353255913e-05\n",
      "epoch: 1, step: 2, loss: 4.6753462811466306e-05\n",
      "epoch: 1, step: 3, loss: 2.77818016911624e-05\n",
      "epoch: 1, step: 4, loss: 3.23283820762299e-05\n",
      "epoch: 1, step: 5, loss: 4.7838220780249685e-05\n",
      "epoch: 1, step: 6, loss: 2.935104384960141e-05\n",
      "epoch: 1, step: 7, loss: 3.372950595803559e-05\n",
      "epoch: 1, step: 8, loss: 4.833626371691935e-05\n",
      "epoch: 1, step: 9, loss: 4.668724432121962e-05\n",
      "epoch: 1, step: 10, loss: 3.052628380828537e-05\n",
      "epoch: 1, step: 11, loss: 2.992576628457755e-05\n",
      "epoch: 1, step: 12, loss: 3.239499346818775e-05\n",
      "epoch: 1, step: 13, loss: 2.890569157898426e-05\n",
      "epoch: 1, step: 14, loss: 3.2284206099575385e-05\n",
      "epoch: 1, step: 15, loss: 4.759365037898533e-05\n",
      "epoch: 1, step: 16, loss: 3.2599644328001887e-05\n",
      "epoch: 1, step: 17, loss: 4.410647670738399e-05\n",
      "epoch: 1, step: 18, loss: 2.826451054716017e-05\n",
      "epoch: 1, step: 19, loss: 4.7270375944208354e-05\n",
      "epoch: 1, step: 20, loss: 2.890090945584234e-05\n",
      "epoch: 1, step: 21, loss: 2.579696592874825e-05\n",
      "epoch: 1, step: 22, loss: 3.0205168513930403e-05\n",
      "epoch: 1, step: 23, loss: 2.8834338081651367e-05\n",
      "epoch: 1, step: 24, loss: 2.9014247047598474e-05\n",
      "epoch: 1, step: 25, loss: 3.013192326761782e-05\n",
      "epoch: 1, step: 26, loss: 4.512085433816537e-05\n",
      "epoch: 1, step: 27, loss: 2.7084728571935557e-05\n",
      "epoch: 1, step: 28, loss: 3.973273123847321e-05\n",
      "epoch: 1, step: 29, loss: 3.9637052395846695e-05\n",
      "epoch: 1, step: 30, loss: 2.4501960069756024e-05\n",
      "epoch: 1, step: 31, loss: 2.909691829700023e-05\n",
      "epoch: 1, step: 32, loss: 3.547328742570244e-05\n",
      "epoch: 1, step: 33, loss: 4.083016392542049e-05\n",
      "epoch: 1, step: 34, loss: 4.2029423639178276e-05\n",
      "epoch: 1, step: 35, loss: 2.710268927330617e-05\n",
      "epoch: 1, step: 36, loss: 2.5612267563701607e-05\n",
      "epoch: 1, step: 37, loss: 4.048653136123903e-05\n",
      "epoch: 1, step: 38, loss: 2.666568434506189e-05\n",
      "epoch: 1, step: 39, loss: 2.618874168547336e-05\n"
     ]
    }
   ],
   "source": [
    "#### Test training\n",
    "\n",
    "cudnn.benchmark = True\n",
    "image_ae = AE().to(device)\n",
    "###\n",
    "# Load AE weights here\n",
    "###\n",
    "for p in image_ae.parameters():  # Fix AE weights\n",
    "    p.requires_grad=False\n",
    "\n",
    "lstm = LSTM().to(device)\n",
    "criterion = nn.MSELoss()\n",
    "optimizer = torch.optim.Adam(params=lstm.parameters(), \n",
    "                             lr=learning_rate, \n",
    "                             weight_decay=weight_decay)\n",
    "\n",
    "for epoch in range(2):\n",
    "    for step, X in enumerate(train_loader):\n",
    "        # (b, dict)\n",
    "        # X[group-key]: (1, len, 3, 128, 128)\n",
    "        inputs = X['center'].squeeze(0).to(device)\n",
    "        latent, outputs = image_ae(inputs)\n",
    "        latent = latent.view(-1, 64*8*8).unsqueeze(0)\n",
    "        rec_latent = lstm(latent)[:,:latent.size()[1],:]\n",
    "#         print(rec_latent.size(), rec_latent.device)\n",
    "        loss = criterion(rec_latent, latent)\n",
    "        print(f'epoch: {epoch}, step: {step}, loss: {loss.item()}')\n",
    "        optimizer.zero_grad()\n",
    "        loss.backward()\n",
    "        optimizer.step()"
   ]
  },
  {
   "cell_type": "code",
   "execution_count": null,
   "metadata": {},
   "outputs": [],
   "source": []
  }
 ],
 "metadata": {
  "kernelspec": {
   "display_name": "Python [conda env:transmomo-py36]",
   "language": "python",
   "name": "conda-env-transmomo-py36-py"
  },
  "language_info": {
   "codemirror_mode": {
    "name": "ipython",
    "version": 3
   },
   "file_extension": ".py",
   "mimetype": "text/x-python",
   "name": "python",
   "nbconvert_exporter": "python",
   "pygments_lexer": "ipython3",
   "version": "3.6.10"
  }
 },
 "nbformat": 4,
 "nbformat_minor": 2
}
